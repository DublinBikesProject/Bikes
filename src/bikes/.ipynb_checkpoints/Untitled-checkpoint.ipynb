{
 "cells": [
  {
   "cell_type": "code",
   "execution_count": 165,
   "metadata": {
    "collapsed": true
   },
   "outputs": [],
   "source": [
    "import pandas as pd\n",
    "import numpy as np\n",
    "import matplotlib.pyplot as plt\n",
    "import matplotlib.patches as mpatches\n",
    "import seaborn as sns\n",
    "from matplotlib.backends.backend_pdf import PdfPages\n",
    "%matplotlib inline\n",
    "%config IPCompleter.greedy=True\n",
    "import warnings\n",
    "warnings.filterwarnings('ignore')\n",
    "pd.set_option('display.max_columns', 100)\n",
    "\n",
    "\n",
    "df = pd.read_csv('output.csv')"
   ]
  },
  {
   "cell_type": "code",
   "execution_count": 166,
   "metadata": {},
   "outputs": [
    {
     "data": {
      "text/html": [
       "<div>\n",
       "<style>\n",
       "    .dataframe thead tr:only-child th {\n",
       "        text-align: right;\n",
       "    }\n",
       "\n",
       "    .dataframe thead th {\n",
       "        text-align: left;\n",
       "    }\n",
       "\n",
       "    .dataframe tbody tr th {\n",
       "        vertical-align: top;\n",
       "    }\n",
       "</style>\n",
       "<table border=\"1\" class=\"dataframe\">\n",
       "  <thead>\n",
       "    <tr style=\"text-align: right;\">\n",
       "      <th></th>\n",
       "      <th>index</th>\n",
       "      <th>address</th>\n",
       "      <th>free_bikes</th>\n",
       "      <th>free_stands</th>\n",
       "      <th>banking</th>\n",
       "      <th>capacity</th>\n",
       "      <th>bonus</th>\n",
       "      <th>city</th>\n",
       "      <th>time_1</th>\n",
       "      <th>loc</th>\n",
       "      <th>id</th>\n",
       "      <th>coord</th>\n",
       "      <th>status</th>\n",
       "      <th>time_2</th>\n",
       "    </tr>\n",
       "  </thead>\n",
       "  <tbody>\n",
       "    <tr>\n",
       "      <th>0</th>\n",
       "      <td>0</td>\n",
       "      <td>Smithfield North</td>\n",
       "      <td>30</td>\n",
       "      <td>0</td>\n",
       "      <td>True</td>\n",
       "      <td>30</td>\n",
       "      <td>False</td>\n",
       "      <td>Dublin</td>\n",
       "      <td>1.522920e+12</td>\n",
       "      <td>SMITHFIELD NORTH</td>\n",
       "      <td>42</td>\n",
       "      <td>{'lat': 53.349562, 'lng': -6.278198}</td>\n",
       "      <td>OPEN</td>\n",
       "      <td>2.018040e+13</td>\n",
       "    </tr>\n",
       "    <tr>\n",
       "      <th>1</th>\n",
       "      <td>1</td>\n",
       "      <td>Parnell Square North</td>\n",
       "      <td>7</td>\n",
       "      <td>13</td>\n",
       "      <td>True</td>\n",
       "      <td>20</td>\n",
       "      <td>False</td>\n",
       "      <td>Dublin</td>\n",
       "      <td>1.522920e+12</td>\n",
       "      <td>PARNELL SQUARE NORTH</td>\n",
       "      <td>30</td>\n",
       "      <td>{'lat': 53.353462, 'lng': -6.265305}</td>\n",
       "      <td>OPEN</td>\n",
       "      <td>2.018040e+13</td>\n",
       "    </tr>\n",
       "    <tr>\n",
       "      <th>2</th>\n",
       "      <td>2</td>\n",
       "      <td>Clonmel Street</td>\n",
       "      <td>33</td>\n",
       "      <td>0</td>\n",
       "      <td>False</td>\n",
       "      <td>33</td>\n",
       "      <td>False</td>\n",
       "      <td>Dublin</td>\n",
       "      <td>1.522920e+12</td>\n",
       "      <td>CLONMEL STREET</td>\n",
       "      <td>54</td>\n",
       "      <td>{'lat': 53.336021, 'lng': -6.26298}</td>\n",
       "      <td>OPEN</td>\n",
       "      <td>2.018040e+13</td>\n",
       "    </tr>\n",
       "    <tr>\n",
       "      <th>3</th>\n",
       "      <td>3</td>\n",
       "      <td>Mount Street Lower</td>\n",
       "      <td>6</td>\n",
       "      <td>34</td>\n",
       "      <td>False</td>\n",
       "      <td>40</td>\n",
       "      <td>False</td>\n",
       "      <td>Dublin</td>\n",
       "      <td>1.522920e+12</td>\n",
       "      <td>MOUNT STREET LOWER</td>\n",
       "      <td>56</td>\n",
       "      <td>{'lat': 53.33796, 'lng': -6.24153}</td>\n",
       "      <td>OPEN</td>\n",
       "      <td>2.018040e+13</td>\n",
       "    </tr>\n",
       "    <tr>\n",
       "      <th>4</th>\n",
       "      <td>4</td>\n",
       "      <td>Christchurch Place</td>\n",
       "      <td>17</td>\n",
       "      <td>2</td>\n",
       "      <td>False</td>\n",
       "      <td>20</td>\n",
       "      <td>False</td>\n",
       "      <td>Dublin</td>\n",
       "      <td>1.522920e+12</td>\n",
       "      <td>CHRISTCHURCH PLACE</td>\n",
       "      <td>6</td>\n",
       "      <td>{'lat': 53.343368, 'lng': -6.27012}</td>\n",
       "      <td>OPEN</td>\n",
       "      <td>2.018040e+13</td>\n",
       "    </tr>\n",
       "  </tbody>\n",
       "</table>\n",
       "</div>"
      ],
      "text/plain": [
       "   index               address  free_bikes  free_stands  banking  capacity  \\\n",
       "0      0      Smithfield North          30            0     True        30   \n",
       "1      1  Parnell Square North           7           13     True        20   \n",
       "2      2        Clonmel Street          33            0    False        33   \n",
       "3      3    Mount Street Lower           6           34    False        40   \n",
       "4      4    Christchurch Place          17            2    False        20   \n",
       "\n",
       "   bonus    city        time_1                   loc  id  \\\n",
       "0  False  Dublin  1.522920e+12      SMITHFIELD NORTH  42   \n",
       "1  False  Dublin  1.522920e+12  PARNELL SQUARE NORTH  30   \n",
       "2  False  Dublin  1.522920e+12        CLONMEL STREET  54   \n",
       "3  False  Dublin  1.522920e+12    MOUNT STREET LOWER  56   \n",
       "4  False  Dublin  1.522920e+12    CHRISTCHURCH PLACE   6   \n",
       "\n",
       "                                  coord status        time_2  \n",
       "0  {'lat': 53.349562, 'lng': -6.278198}   OPEN  2.018040e+13  \n",
       "1  {'lat': 53.353462, 'lng': -6.265305}   OPEN  2.018040e+13  \n",
       "2   {'lat': 53.336021, 'lng': -6.26298}   OPEN  2.018040e+13  \n",
       "3    {'lat': 53.33796, 'lng': -6.24153}   OPEN  2.018040e+13  \n",
       "4   {'lat': 53.343368, 'lng': -6.27012}   OPEN  2.018040e+13  "
      ]
     },
     "execution_count": 166,
     "metadata": {},
     "output_type": "execute_result"
    }
   ],
   "source": [
    "df.head(5)"
   ]
  },
  {
   "cell_type": "code",
   "execution_count": 167,
   "metadata": {},
   "outputs": [],
   "source": [
    "df.drop('bonus', axis=1, inplace=True)\n",
    "df.drop('city', axis=1, inplace=True)\n",
    "df.drop('loc', axis=1, inplace=True)\n",
    "df.drop('banking', axis=1, inplace=True)\n",
    "df.drop('coord', axis=1, inplace=True)\n",
    "df.drop('status', axis=1, inplace=True)\n",
    "df.drop('time_2', axis=1, inplace=True)\n",
    "df.drop('id', axis=1, inplace=True)\n",
    "df.drop('index', axis=1, inplace=True)\n"
   ]
  },
  {
   "cell_type": "code",
   "execution_count": 168,
   "metadata": {},
   "outputs": [
    {
     "data": {
      "text/plain": [
       "index            int64\n",
       "address         object\n",
       "free_bikes       int64\n",
       "free_stands      int64\n",
       "capacity         int64\n",
       "time_1         float64\n",
       "id               int64\n",
       "dtype: object"
      ]
     },
     "execution_count": 168,
     "metadata": {},
     "output_type": "execute_result"
    }
   ],
   "source": [
    "df.dtypes"
   ]
  },
  {
   "cell_type": "code",
   "execution_count": 170,
   "metadata": {},
   "outputs": [],
   "source": [
    "df['time_1'] = df['time_1'].astype('int64')\n"
   ]
  },
  {
   "cell_type": "code",
   "execution_count": 171,
   "metadata": {},
   "outputs": [],
   "source": [
    "df['time_1']=(pd.to_datetime(df['time_1'],unit='ms')) "
   ]
  },
  {
   "cell_type": "code",
   "execution_count": 172,
   "metadata": {},
   "outputs": [
    {
     "data": {
      "text/plain": [
       "index                   int64\n",
       "address                object\n",
       "free_bikes              int64\n",
       "free_stands             int64\n",
       "capacity                int64\n",
       "time_1         datetime64[ns]\n",
       "id                      int64\n",
       "dtype: object"
      ]
     },
     "execution_count": 172,
     "metadata": {},
     "output_type": "execute_result"
    }
   ],
   "source": [
    "df.dtypes"
   ]
  },
  {
   "cell_type": "code",
   "execution_count": 173,
   "metadata": {},
   "outputs": [
    {
     "data": {
      "text/html": [
       "<div>\n",
       "<style>\n",
       "    .dataframe thead tr:only-child th {\n",
       "        text-align: right;\n",
       "    }\n",
       "\n",
       "    .dataframe thead th {\n",
       "        text-align: left;\n",
       "    }\n",
       "\n",
       "    .dataframe tbody tr th {\n",
       "        vertical-align: top;\n",
       "    }\n",
       "</style>\n",
       "<table border=\"1\" class=\"dataframe\">\n",
       "  <thead>\n",
       "    <tr style=\"text-align: right;\">\n",
       "      <th></th>\n",
       "      <th>index</th>\n",
       "      <th>address</th>\n",
       "      <th>free_bikes</th>\n",
       "      <th>free_stands</th>\n",
       "      <th>capacity</th>\n",
       "      <th>time_1</th>\n",
       "      <th>id</th>\n",
       "    </tr>\n",
       "  </thead>\n",
       "  <tbody>\n",
       "    <tr>\n",
       "      <th>0</th>\n",
       "      <td>0</td>\n",
       "      <td>Smithfield North</td>\n",
       "      <td>30</td>\n",
       "      <td>0</td>\n",
       "      <td>30</td>\n",
       "      <td>2018-04-05 09:20:00</td>\n",
       "      <td>42</td>\n",
       "    </tr>\n",
       "    <tr>\n",
       "      <th>1</th>\n",
       "      <td>1</td>\n",
       "      <td>Parnell Square North</td>\n",
       "      <td>7</td>\n",
       "      <td>13</td>\n",
       "      <td>20</td>\n",
       "      <td>2018-04-05 09:20:00</td>\n",
       "      <td>30</td>\n",
       "    </tr>\n",
       "    <tr>\n",
       "      <th>2</th>\n",
       "      <td>2</td>\n",
       "      <td>Clonmel Street</td>\n",
       "      <td>33</td>\n",
       "      <td>0</td>\n",
       "      <td>33</td>\n",
       "      <td>2018-04-05 09:20:00</td>\n",
       "      <td>54</td>\n",
       "    </tr>\n",
       "    <tr>\n",
       "      <th>3</th>\n",
       "      <td>3</td>\n",
       "      <td>Mount Street Lower</td>\n",
       "      <td>6</td>\n",
       "      <td>34</td>\n",
       "      <td>40</td>\n",
       "      <td>2018-04-05 09:20:00</td>\n",
       "      <td>56</td>\n",
       "    </tr>\n",
       "    <tr>\n",
       "      <th>4</th>\n",
       "      <td>4</td>\n",
       "      <td>Christchurch Place</td>\n",
       "      <td>17</td>\n",
       "      <td>2</td>\n",
       "      <td>20</td>\n",
       "      <td>2018-04-05 09:20:00</td>\n",
       "      <td>6</td>\n",
       "    </tr>\n",
       "  </tbody>\n",
       "</table>\n",
       "</div>"
      ],
      "text/plain": [
       "   index               address  free_bikes  free_stands  capacity  \\\n",
       "0      0      Smithfield North          30            0        30   \n",
       "1      1  Parnell Square North           7           13        20   \n",
       "2      2        Clonmel Street          33            0        33   \n",
       "3      3    Mount Street Lower           6           34        40   \n",
       "4      4    Christchurch Place          17            2        20   \n",
       "\n",
       "               time_1  id  \n",
       "0 2018-04-05 09:20:00  42  \n",
       "1 2018-04-05 09:20:00  30  \n",
       "2 2018-04-05 09:20:00  54  \n",
       "3 2018-04-05 09:20:00  56  \n",
       "4 2018-04-05 09:20:00   6  "
      ]
     },
     "execution_count": 173,
     "metadata": {},
     "output_type": "execute_result"
    }
   ],
   "source": [
    "df.head(5)"
   ]
  },
  {
   "cell_type": "code",
   "execution_count": null,
   "metadata": {},
   "outputs": [],
   "source": [
    "df['YearMonth'] = df['time_1'].map(lambda x: 100*x.year + x.month)\n",
    "df['Date'] = df['time_1'].apply(lambda x: x.date()) \n",
    "\n",
    "#df['time_1'] = pd.to_datetime(df['date']).apply(lambda x: x.date()) \n"
   ]
  },
  {
   "cell_type": "code",
   "execution_count": null,
   "metadata": {},
   "outputs": [],
   "source": [
    "#df.groupby([df.time_1.dt.weekofyear, df.time_1.dt.hour]).mean()\n"
   ]
  },
  {
   "cell_type": "code",
   "execution_count": null,
   "metadata": {},
   "outputs": [],
   "source": [
    "df.head(5)"
   ]
  },
  {
   "cell_type": "code",
   "execution_count": null,
   "metadata": {},
   "outputs": [],
   "source": [
    "#df['time_1'] = pd.to_datetime(df['time_1']).apply(lambda x: x.date()) \n",
    "df.describe()"
   ]
  },
  {
   "cell_type": "code",
   "execution_count": null,
   "metadata": {},
   "outputs": [],
   "source": []
  },
  {
   "cell_type": "code",
   "execution_count": null,
   "metadata": {},
   "outputs": [],
   "source": [
    "#df.reset_index(inplace=True)\n",
    "# helper columns with date, hour and dow\n",
    "df['date'] = df['time_1'].dt.date\n",
    "df['hour'] = df['time_1'].dt.hour\n",
    "df['dow'] = df['time_1'].dt.dayofweek\n",
    "# sum of counts for all combinations\n",
    "df = df.groupby(['address', 'date', 'dow', 'hour']).sum()\n",
    "# take the mean over all dates\n",
    "df = df.reset_index().groupby(['address', 'dow', 'hour']).mean()"
   ]
  },
  {
   "cell_type": "code",
   "execution_count": null,
   "metadata": {},
   "outputs": [],
   "source": [
    "#df['dow'] = df['dow'].astype('int64')\n",
    "df.loc[(df['time_1']['dow'] == 0) & (df['hour'].isin(8-9)) & (df['address'] == \"Benson Street\")]\n"
   ]
  },
  {
   "cell_type": "code",
   "execution_count": null,
   "metadata": {
    "collapsed": true
   },
   "outputs": [],
   "source": []
  }
 ],
 "metadata": {
  "kernelspec": {
   "display_name": "Python 3",
   "language": "python",
   "name": "python3"
  },
  "language_info": {
   "codemirror_mode": {
    "name": "ipython",
    "version": 3
   },
   "file_extension": ".py",
   "mimetype": "text/x-python",
   "name": "python",
   "nbconvert_exporter": "python",
   "pygments_lexer": "ipython3",
   "version": "3.6.3"
  }
 },
 "nbformat": 4,
 "nbformat_minor": 2
}
